{
  "nbformat": 4,
  "nbformat_minor": 0,
  "metadata": {
    "colab": {
      "name": "TF-Agents-Reinforcement-Learning",
      "version": "0.3.2",
      "provenance": [],
      "collapsed_sections": [],
      "toc_visible": true,
      "include_colab_link": true
    },
    "kernelspec": {
      "name": "python3",
      "display_name": "Python 3"
    },
    "accelerator": "TPU"
  },
  "cells": [
    {
      "cell_type": "markdown",
      "metadata": {
        "id": "view-in-github",
        "colab_type": "text"
      },
      "source": [
        "<a href=\"https://colab.research.google.com/github/vochicong/ai-memo/blob/master/TF_Agents_Reinforcement_Learning.ipynb\" target=\"_parent\"><img src=\"https://colab.research.google.com/assets/colab-badge.svg\" alt=\"Open In Colab\"/></a>"
      ]
    },
    {
      "metadata": {
        "id": "o4cExve6i8if",
        "colab_type": "text"
      },
      "cell_type": "markdown",
      "source": [
        "# TensorFlow Agentsで強化学習してみよう"
      ]
    },
    {
      "metadata": {
        "id": "lo5meLn7K3HM",
        "colab_type": "text"
      },
      "cell_type": "markdown",
      "source": [
        "## 準備"
      ]
    },
    {
      "metadata": {
        "id": "jLC68G8eKwxN",
        "colab_type": "text"
      },
      "cell_type": "markdown",
      "source": [
        "### gym や TF Agentsなどのインストール"
      ]
    },
    {
      "metadata": {
        "id": "AGhtbs3Ni7wA",
        "colab_type": "code",
        "cellView": "both",
        "outputId": "45430461-3f5e-4f98-b7fe-052f18505364",
        "colab": {
          "base_uri": "https://localhost:8080/",
          "height": 1707
        }
      },
      "cell_type": "code",
      "source": [
        "!apt-get install xvfb\n",
        "!pip install 'gym==0.10.11'\n",
        "!pip install imageio\n",
        "!pip install PILLOW\n",
        "!pip install pyglet\n",
        "!pip install pyvirtualdisplay\n",
        "!pip install tf-agents-nightly\n",
        "!pip install tf-nightly"
      ],
      "execution_count": 0,
      "outputs": [
        {
          "output_type": "stream",
          "text": [
            "Reading package lists... Done\n",
            "Building dependency tree       \n",
            "Reading state information... Done\n",
            "The following package was automatically installed and is no longer required:\n",
            "  libnvidia-common-410\n",
            "Use 'apt autoremove' to remove it.\n",
            "The following NEW packages will be installed:\n",
            "  xvfb\n",
            "0 upgraded, 1 newly installed, 0 to remove and 6 not upgraded.\n",
            "Need to get 783 kB of archives.\n",
            "After this operation, 2,266 kB of additional disk space will be used.\n",
            "Get:1 http://archive.ubuntu.com/ubuntu bionic-updates/universe amd64 xvfb amd64 2:1.19.6-1ubuntu4.2 [783 kB]\n",
            "Fetched 783 kB in 1s (948 kB/s)\n",
            "Selecting previously unselected package xvfb.\n",
            "(Reading database ... 131294 files and directories currently installed.)\n",
            "Preparing to unpack .../xvfb_2%3a1.19.6-1ubuntu4.2_amd64.deb ...\n",
            "Unpacking xvfb (2:1.19.6-1ubuntu4.2) ...\n",
            "Setting up xvfb (2:1.19.6-1ubuntu4.2) ...\n",
            "Processing triggers for man-db (2.8.3-2ubuntu0.1) ...\n",
            "Requirement already satisfied: gym==0.10.11 in /usr/local/lib/python3.6/dist-packages (0.10.11)\n",
            "Requirement already satisfied: scipy in /usr/local/lib/python3.6/dist-packages (from gym==0.10.11) (1.1.0)\n",
            "Requirement already satisfied: numpy>=1.10.4 in /usr/local/lib/python3.6/dist-packages (from gym==0.10.11) (1.14.6)\n",
            "Requirement already satisfied: requests>=2.0 in /usr/local/lib/python3.6/dist-packages (from gym==0.10.11) (2.18.4)\n",
            "Requirement already satisfied: six in /usr/local/lib/python3.6/dist-packages (from gym==0.10.11) (1.11.0)\n",
            "Requirement already satisfied: pyglet>=1.2.0 in /usr/local/lib/python3.6/dist-packages (from gym==0.10.11) (1.3.2)\n",
            "Requirement already satisfied: chardet<3.1.0,>=3.0.2 in /usr/local/lib/python3.6/dist-packages (from requests>=2.0->gym==0.10.11) (3.0.4)\n",
            "Requirement already satisfied: urllib3<1.23,>=1.21.1 in /usr/local/lib/python3.6/dist-packages (from requests>=2.0->gym==0.10.11) (1.22)\n",
            "Requirement already satisfied: idna<2.7,>=2.5 in /usr/local/lib/python3.6/dist-packages (from requests>=2.0->gym==0.10.11) (2.6)\n",
            "Requirement already satisfied: certifi>=2017.4.17 in /usr/local/lib/python3.6/dist-packages (from requests>=2.0->gym==0.10.11) (2019.3.9)\n",
            "Requirement already satisfied: future in /usr/local/lib/python3.6/dist-packages (from pyglet>=1.2.0->gym==0.10.11) (0.16.0)\n",
            "Requirement already satisfied: imageio in /usr/local/lib/python3.6/dist-packages (2.4.1)\n",
            "Requirement already satisfied: numpy in /usr/local/lib/python3.6/dist-packages (from imageio) (1.14.6)\n",
            "Requirement already satisfied: pillow in /usr/local/lib/python3.6/dist-packages (from imageio) (4.1.1)\n",
            "Requirement already satisfied: olefile in /usr/local/lib/python3.6/dist-packages (from pillow->imageio) (0.46)\n",
            "Requirement already satisfied: PILLOW in /usr/local/lib/python3.6/dist-packages (4.1.1)\n",
            "Requirement already satisfied: olefile in /usr/local/lib/python3.6/dist-packages (from PILLOW) (0.46)\n",
            "Requirement already satisfied: pyglet in /usr/local/lib/python3.6/dist-packages (1.3.2)\n",
            "Requirement already satisfied: future in /usr/local/lib/python3.6/dist-packages (from pyglet) (0.16.0)\n",
            "Collecting pyvirtualdisplay\n",
            "  Downloading https://files.pythonhosted.org/packages/39/37/f285403a09cc261c56b6574baace1bdcf4b8c7428c8a7239cbba137bc0eb/PyVirtualDisplay-0.2.1.tar.gz\n",
            "Collecting EasyProcess (from pyvirtualdisplay)\n",
            "  Downloading https://files.pythonhosted.org/packages/45/3a/4eecc0c7995a13a64739bbedc0d3691fc574245b7e79cff81905aa0c2b38/EasyProcess-0.2.5.tar.gz\n",
            "Building wheels for collected packages: pyvirtualdisplay, EasyProcess\n",
            "  Building wheel for pyvirtualdisplay (setup.py) ... \u001b[?25ldone\n",
            "\u001b[?25h  Stored in directory: /root/.cache/pip/wheels/d1/8c/16/1c64227974ae29c687e4cc30fd691d5c0fd40f54446dde99da\n",
            "  Building wheel for EasyProcess (setup.py) ... \u001b[?25ldone\n",
            "\u001b[?25h  Stored in directory: /root/.cache/pip/wheels/41/22/19/af15ef6264c58b625a82641ed7483ad05e258fbd8925505227\n",
            "Successfully built pyvirtualdisplay EasyProcess\n",
            "Installing collected packages: EasyProcess, pyvirtualdisplay\n",
            "Successfully installed EasyProcess-0.2.5 pyvirtualdisplay-0.2.1\n",
            "Collecting tf-agents-nightly\n",
            "\u001b[?25l  Downloading https://files.pythonhosted.org/packages/ad/3f/9ec75ef319753b21d0f4fb0b1b99082b81113601146cbc7fbab31b106d2b/tf_agents_nightly-0.2.0.dev20190321-py2.py3-none-any.whl (501kB)\n",
            "\u001b[K    100% |████████████████████████████████| 501kB 21.1MB/s \n",
            "\u001b[?25hCollecting gin-config==0.1.3 (from tf-agents-nightly)\n",
            "\u001b[?25l  Downloading https://files.pythonhosted.org/packages/8c/be/c984b1c8a7ba1c385b32bf39c7a225cd9f713d49705898309d01b60fd0e7/gin_config-0.1.3-py3-none-any.whl (43kB)\n",
            "\u001b[K    100% |████████████████████████████████| 51kB 19.1MB/s \n",
            "\u001b[?25hRequirement already satisfied: absl-py>=0.6.1 in /usr/local/lib/python3.6/dist-packages (from tf-agents-nightly) (0.7.1)\n",
            "Requirement already satisfied: six>=1.10.0 in /usr/local/lib/python3.6/dist-packages (from tf-agents-nightly) (1.11.0)\n",
            "Requirement already satisfied: numpy>=1.13.3 in /usr/local/lib/python3.6/dist-packages (from tf-agents-nightly) (1.14.6)\n",
            "Collecting tfp-nightly==0.7.0.dev20190304 (from tf-agents-nightly)\n",
            "\u001b[?25l  Downloading https://files.pythonhosted.org/packages/aa/41/1f21a53cfbde6c132c487e2db37571fd2951d667a58086efcb9996280b0f/tfp_nightly-0.7.0.dev20190304-py2.py3-none-any.whl (834kB)\n",
            "\u001b[K    100% |████████████████████████████████| 839kB 11.5MB/s \n",
            "\u001b[?25hInstalling collected packages: gin-config, tfp-nightly, tf-agents-nightly\n",
            "  Found existing installation: gin-config 0.1.4\n",
            "    Uninstalling gin-config-0.1.4:\n",
            "      Successfully uninstalled gin-config-0.1.4\n",
            "Successfully installed gin-config-0.1.3 tf-agents-nightly-0.2.0.dev20190321 tfp-nightly-0.7.0.dev20190304\n",
            "Collecting tf-nightly\n",
            "\u001b[?25l  Downloading https://files.pythonhosted.org/packages/e2/cb/8fd85a998d04d9c52569975e33c280ea2d1468d406f0ff6be37fefe774d5/tf_nightly-1.14.1.dev20190403-cp36-cp36m-manylinux1_x86_64.whl (116.1MB)\n",
            "\u001b[K    100% |████████████████████████████████| 116.1MB 201kB/s \n",
            "\u001b[?25hRequirement already satisfied: termcolor>=1.1.0 in /usr/local/lib/python3.6/dist-packages (from tf-nightly) (1.1.0)\n",
            "Requirement already satisfied: numpy<2.0,>=1.14.5 in /usr/local/lib/python3.6/dist-packages (from tf-nightly) (1.14.6)\n",
            "Requirement already satisfied: grpcio>=1.8.6 in /usr/local/lib/python3.6/dist-packages (from tf-nightly) (1.15.0)\n",
            "Requirement already satisfied: keras-applications>=1.0.6 in /usr/local/lib/python3.6/dist-packages (from tf-nightly) (1.0.7)\n",
            "Requirement already satisfied: protobuf>=3.6.1 in /usr/local/lib/python3.6/dist-packages (from tf-nightly) (3.7.1)\n",
            "Requirement already satisfied: absl-py>=0.7.0 in /usr/local/lib/python3.6/dist-packages (from tf-nightly) (0.7.1)\n",
            "Collecting tb-nightly<1.15.0a0,>=1.14.0a0 (from tf-nightly)\n",
            "\u001b[?25l  Downloading https://files.pythonhosted.org/packages/5d/17/a3d05a0664c11703259aa79d2b58b871b3bb1fff24153f75db04540489db/tb_nightly-1.14.0a20190319-py3-none-any.whl (3.0MB)\n",
            "\u001b[K    100% |████████████████████████████████| 3.0MB 10.1MB/s \n",
            "\u001b[?25hCollecting google-pasta>=0.1.2 (from tf-nightly)\n",
            "\u001b[?25l  Downloading https://files.pythonhosted.org/packages/8c/96/adbd4eafe72ce9b5ca6f168fbf109386e1b601f7c59926a11e9d7b7a5b44/google_pasta-0.1.4-py3-none-any.whl (51kB)\n",
            "\u001b[K    100% |████████████████████████████████| 61kB 21.7MB/s \n",
            "\u001b[?25hRequirement already satisfied: gast>=0.2.0 in /usr/local/lib/python3.6/dist-packages (from tf-nightly) (0.2.2)\n",
            "Requirement already satisfied: wheel>=0.26 in /usr/local/lib/python3.6/dist-packages (from tf-nightly) (0.33.1)\n",
            "Collecting tf-estimator-nightly (from tf-nightly)\n",
            "\u001b[?25l  Downloading https://files.pythonhosted.org/packages/81/0c/003aeee9368bfa62781f0c78259feb766e066e44bd567af84603b1a17bec/tf_estimator_nightly-1.14.0.dev2019040301-py2.py3-none-any.whl (411kB)\n",
            "\u001b[K    100% |████████████████████████████████| 419kB 20.1MB/s \n",
            "\u001b[?25hRequirement already satisfied: keras-preprocessing>=1.0.5 in /usr/local/lib/python3.6/dist-packages (from tf-nightly) (1.0.9)\n",
            "Requirement already satisfied: astor>=0.6.0 in /usr/local/lib/python3.6/dist-packages (from tf-nightly) (0.7.1)\n",
            "Requirement already satisfied: six>=1.10.0 in /usr/local/lib/python3.6/dist-packages (from tf-nightly) (1.11.0)\n",
            "Requirement already satisfied: h5py in /usr/local/lib/python3.6/dist-packages (from keras-applications>=1.0.6->tf-nightly) (2.8.0)\n",
            "Requirement already satisfied: setuptools in /usr/local/lib/python3.6/dist-packages (from protobuf>=3.6.1->tf-nightly) (40.8.0)\n",
            "Requirement already satisfied: markdown>=2.6.8 in /usr/local/lib/python3.6/dist-packages (from tb-nightly<1.15.0a0,>=1.14.0a0->tf-nightly) (3.1)\n",
            "Requirement already satisfied: werkzeug>=0.11.15 in /usr/local/lib/python3.6/dist-packages (from tb-nightly<1.15.0a0,>=1.14.0a0->tf-nightly) (0.15.1)\n",
            "Installing collected packages: tb-nightly, google-pasta, tf-estimator-nightly, tf-nightly\n",
            "Successfully installed google-pasta-0.1.4 tb-nightly-1.14.0a20190319 tf-estimator-nightly-1.14.0.dev2019040301 tf-nightly-1.14.1.dev20190403\n"
          ],
          "name": "stdout"
        }
      ]
    },
    {
      "metadata": {
        "id": "O66cHuFHK8G7",
        "colab_type": "text"
      },
      "cell_type": "markdown",
      "source": [
        "### import"
      ]
    },
    {
      "metadata": {
        "id": "5mkQVwuS7p92",
        "colab_type": "code",
        "colab": {}
      },
      "cell_type": "code",
      "source": [
        "from __future__ import absolute_import\n",
        "from __future__ import division\n",
        "from __future__ import print_function\n",
        "\n",
        "import base64\n",
        "import gym\n",
        "import imageio\n",
        "import IPython\n",
        "import matplotlib\n",
        "import matplotlib.pyplot as plt\n",
        "import numpy as np\n",
        "import PIL.Image\n",
        "import pyvirtualdisplay\n",
        "\n",
        "import tensorflow as tf\n",
        "\n",
        "from tf_agents.agents.dqn import dqn_agent\n",
        "from tf_agents.agents.dqn import q_network\n",
        "from tf_agents.drivers import dynamic_episode_driver\n",
        "from tf_agents.drivers import dynamic_step_driver\n",
        "from tf_agents.environments import suite_gym\n",
        "from tf_agents.environments import tf_py_environment\n",
        "from tf_agents.environments import trajectory\n",
        "from tf_agents.metrics import metric_utils\n",
        "from tf_agents.metrics import tf_metrics\n",
        "from tf_agents.policies import random_tf_policy\n",
        "from tf_agents.replay_buffers import tf_uniform_replay_buffer\n",
        "from tf_agents.utils import common\n",
        "\n",
        "tf.compat.v1.enable_v2_behavior()\n",
        "\n",
        "\n",
        "# Set up a virtual display for rendering OpenAI gym environments.\n",
        "display = pyvirtualdisplay.Display(visible=0, size=(1400, 900)).start()"
      ],
      "execution_count": 0,
      "outputs": []
    },
    {
      "metadata": {
        "id": "C8YuDSibLGY6",
        "colab_type": "text"
      },
      "cell_type": "markdown",
      "source": [
        "### 設定"
      ]
    },
    {
      "metadata": {
        "id": "FH72gnNK73aA",
        "colab_type": "code",
        "colab": {}
      },
      "cell_type": "code",
      "source": [
        "env_name = 'CartPole-v0'  # @param\n",
        "num_iterations = 20000  # @param\n",
        "\n",
        "initial_collect_steps = 1000  # @param\n",
        "collect_steps_per_iteration = 10  # @param\n",
        "replay_buffer_capacity = 100000  # @param\n",
        "\n",
        "fc_layer_params = (100, 100) # @param\n",
        "\n",
        "batch_size = 64  # @param\n",
        "learning_rate = 1e-3  # @param\n",
        "log_interval = 200  # @param\n",
        "\n",
        "num_eval_episodes = 10  # @param\n",
        "eval_interval = 1000  # @param"
      ],
      "execution_count": 0,
      "outputs": []
    },
    {
      "metadata": {
        "id": "Tz4IeS0uLQct",
        "colab_type": "text"
      },
      "cell_type": "markdown",
      "source": [
        "## Cartpole カートポール 倒立振子\n",
        "\n",
        "[Cartpole](https://gym.openai.com/docs/#environments) は強化学習の Hello world 的問題です。\n",
        "\n",
        "倒立振子が倒れないように、左か右へ移動(Action)できる。報酬の最大値は 200。"
      ]
    },
    {
      "metadata": {
        "id": "Isiyfjge77YP",
        "colab_type": "code",
        "outputId": "9e9f9d99-f17e-4420-8f81-a350ed6eee98",
        "colab": {
          "base_uri": "https://localhost:8080/",
          "height": 417
        }
      },
      "cell_type": "code",
      "source": [
        "env = suite_gym.load(env_name)\n",
        "env.reset()\n",
        "PIL.Image.fromarray(env.render())"
      ],
      "execution_count": 0,
      "outputs": [
        {
          "output_type": "execute_result",
          "data": {
            "image/png": "[encoded data removed]",
            "text/plain": [
              "<PIL.Image.Image image mode=RGB size=600x400 at 0x7F4891E99A90>"
            ]
          },
          "metadata": {
            "tags": []
          },
          "execution_count": 4
        }
      ]
    },
    {
      "metadata": {
        "id": "pMBcen8_8ISM",
        "colab_type": "code",
        "outputId": "8c919720-0b4d-4283-fd66-0a25c5fdc298",
        "colab": {
          "base_uri": "https://localhost:8080/",
          "height": 107
        }
      },
      "cell_type": "code",
      "source": [
        "print('Observation Spec:')\n",
        "print(env.time_step_spec().observation)\n",
        "print('Action Spec:')\n",
        "print(env.action_spec())"
      ],
      "execution_count": 0,
      "outputs": [
        {
          "output_type": "stream",
          "text": [
            "Observation Spec:\n",
            "BoundedArraySpec(shape=(4,), dtype=dtype('float32'), name=None, minimum=[-4.8000002e+00 -3.4028235e+38 -4.1887903e-01 -3.4028235e+38], maximum=[4.8000002e+00 3.4028235e+38 4.1887903e-01 3.4028235e+38])\n",
            "Action Spec:\n",
            "BoundedArraySpec(shape=(), dtype=dtype('int64'), name=None, minimum=0, maximum=1)\n"
          ],
          "name": "stdout"
        }
      ]
    },
    {
      "metadata": {
        "id": "z1MCD1L4JIWX",
        "colab_type": "text"
      },
      "cell_type": "markdown",
      "source": [
        "### Random 行動\n",
        "\n",
        "大体 30 位の rewards （報酬）を得られる"
      ]
    },
    {
      "metadata": {
        "id": "3y9-0g-qJZCF",
        "colab_type": "text"
      },
      "cell_type": "markdown",
      "source": [
        "#### TF suite_gym利用"
      ]
    },
    {
      "metadata": {
        "id": "nqt0pDqi82Sb",
        "colab_type": "code",
        "colab": {}
      },
      "cell_type": "code",
      "source": [
        "env = suite_gym.load(env_name)\n",
        "rewards = []\n",
        "for i_episode in range(10):\n",
        "    env.reset()\n",
        "    for t in range(200):\n",
        "        action = env.action_space.sample()\n",
        "        next_step = env.step(action)\n",
        "        assert 1 == next_step.reward\n",
        "        if next_step.is_last():\n",
        "          rewards.append(t+1)\n",
        "          break"
      ],
      "execution_count": 0,
      "outputs": []
    },
    {
      "metadata": {
        "id": "xepwMiv_GBZ9",
        "colab_type": "code",
        "outputId": "d508570f-274e-466d-fa3d-2c589bb1257d",
        "colab": {
          "base_uri": "https://localhost:8080/",
          "height": 35
        }
      },
      "cell_type": "code",
      "source": [
        "np.mean(rewards), rewards"
      ],
      "execution_count": 0,
      "outputs": [
        {
          "output_type": "execute_result",
          "data": {
            "text/plain": [
              "(17.8, [13, 14, 20, 15, 18, 14, 29, 11, 20, 24])"
            ]
          },
          "metadata": {
            "tags": []
          },
          "execution_count": 7
        }
      ]
    },
    {
      "metadata": {
        "id": "jCwIrDgBJRN4",
        "colab_type": "text"
      },
      "cell_type": "markdown",
      "source": [
        "#### OpenAI gym利用"
      ]
    },
    {
      "metadata": {
        "id": "rSfjdMaQ9Ael",
        "colab_type": "code",
        "colab": {}
      },
      "cell_type": "code",
      "source": [
        "env = gym.make(env_name)\n",
        "rewards = []\n",
        "for i_episode in range(10):\n",
        "    env.reset()\n",
        "    for t in range(100):\n",
        "        action = env.action_space.sample()\n",
        "        observation, reward, done, info = env.step(action)\n",
        "        assert 1 == reward\n",
        "        if done:\n",
        "          rewards.append(t+1)\n",
        "          break"
      ],
      "execution_count": 0,
      "outputs": []
    },
    {
      "metadata": {
        "id": "2Di2L_tQHc8X",
        "colab_type": "code",
        "outputId": "f346fe7a-33d0-4ffb-ce31-6ff7ad912e9f",
        "colab": {
          "base_uri": "https://localhost:8080/",
          "height": 35
        }
      },
      "cell_type": "code",
      "source": [
        "np.mean(rewards), rewards"
      ],
      "execution_count": 0,
      "outputs": [
        {
          "output_type": "execute_result",
          "data": {
            "text/plain": [
              "(24.1, [16, 15, 18, 22, 14, 51, 9, 55, 22, 19])"
            ]
          },
          "metadata": {
            "tags": []
          },
          "execution_count": 9
        }
      ]
    },
    {
      "metadata": {
        "id": "tPXbFcAiIVAq",
        "colab_type": "code",
        "outputId": "1db7fd48-60c4-4ea7-bccb-e1cb8ae7825d",
        "colab": {
          "base_uri": "https://localhost:8080/",
          "height": 35
        }
      },
      "cell_type": "code",
      "source": [
        "observation, reward, done, info"
      ],
      "execution_count": 0,
      "outputs": [
        {
          "output_type": "execute_result",
          "data": {
            "text/plain": [
              "(array([ 0.16334031,  0.94156663, -0.22586632, -1.7119736 ]), 1.0, True, {})"
            ]
          },
          "metadata": {
            "tags": []
          },
          "execution_count": 10
        }
      ]
    },
    {
      "metadata": {
        "id": "FFW2A1uQMZEj",
        "colab_type": "text"
      },
      "cell_type": "markdown",
      "source": [
        "### TF-AgentsでDQN強化学習"
      ]
    },
    {
      "metadata": {
        "id": "vW3RpVhVNV33",
        "colab_type": "text"
      },
      "cell_type": "markdown",
      "source": [
        "#### 訓練と評価用の Environment を用意"
      ]
    },
    {
      "metadata": {
        "id": "8Gp5CjZKMcFU",
        "colab_type": "code",
        "colab": {}
      },
      "cell_type": "code",
      "source": [
        "train_py_env = suite_gym.load(env_name)\n",
        "eval_py_env = suite_gym.load(env_name)\n",
        "\n",
        "train_env = tf_py_environment.TFPyEnvironment(train_py_env)\n",
        "eval_env = tf_py_environment.TFPyEnvironment(eval_py_env)"
      ],
      "execution_count": 0,
      "outputs": []
    },
    {
      "metadata": {
        "id": "vWqGmZqQOTJB",
        "colab_type": "text"
      },
      "cell_type": "markdown",
      "source": [
        "#### Agent"
      ]
    },
    {
      "metadata": {
        "id": "MHILSH0zNayn",
        "colab_type": "code",
        "colab": {}
      },
      "cell_type": "code",
      "source": [
        "def create_agent(train_env):\n",
        "    q_net = q_network.QNetwork(\n",
        "      train_env.observation_spec(),\n",
        "      train_env.action_spec(),\n",
        "      fc_layer_params=fc_layer_params,\n",
        "    )\n",
        "\n",
        "    adam = tf.compat.v1.train.AdamOptimizer(learning_rate=learning_rate)\n",
        "\n",
        "    train_step_counter = tf.compat.v2.Variable(0)\n",
        "\n",
        "    tf_agent = dqn_agent.DqnAgent(\n",
        "        train_env.time_step_spec(),\n",
        "        train_env.action_spec(),\n",
        "        q_network=q_net,\n",
        "        optimizer=adam,\n",
        "        td_errors_loss_fn=dqn_agent.element_wise_squared_loss,\n",
        "        train_step_counter=train_step_counter,\n",
        "    )\n",
        "    tf_agent.initialize()\n",
        "    return tf_agent"
      ],
      "execution_count": 0,
      "outputs": []
    },
    {
      "metadata": {
        "id": "i3VkvNU5Poue",
        "colab_type": "text"
      },
      "cell_type": "markdown",
      "source": [
        "#### Policies & Metrics\n",
        "\n",
        "\n",
        "[tf_metrics.AverageReturnMetric](https://github.com/tensorflow/agents/blob/dba93a7b2ebdd1d64e7a46822804b57ad11878d0/tf_agents/metrics/py_metrics.py#L110) で評価し、[TF Driver](https://github.com/tensorflow/agents/blob/master/tf_agents/colabs/4_drivers_tutorial.ipynb) で for loop を使わずに簡潔に記述。"
      ]
    },
    {
      "metadata": {
        "id": "iAZzXhVmNTL7",
        "colab_type": "code",
        "outputId": "8ff971e1-3843-41f8-f90a-8fc66d676a59",
        "colab": {
          "base_uri": "https://localhost:8080/",
          "height": 159
        }
      },
      "cell_type": "code",
      "source": [
        "random_policy = random_tf_policy.RandomTFPolicy(\n",
        "  train_env.time_step_spec(),\n",
        "  train_env.action_spec())\n",
        "\n",
        "# 評価メソッド\n",
        "def evaluate(env, policy, num_episodes=num_eval_episodes):\n",
        "    observers = [tf_metrics.AverageReturnMetric()]\n",
        "    dynamic_episode_driver.DynamicEpisodeDriver(\n",
        "        env, policy, observers, num_episodes).run()\n",
        "    return observers[0].result().numpy()\n",
        "\n",
        "# Random policy を評価してみる\n",
        "evaluate(eval_env, random_policy)"
      ],
      "execution_count": 0,
      "outputs": [
        {
          "output_type": "stream",
          "text": [
            "WARNING: Logging before flag parsing goes to stderr.\n",
            "W0403 08:51:18.102041 139950747289472 backprop.py:818] The dtype of the watched tensor must be floating (e.g. tf.float32), got tf.int64\n",
            "W0403 08:51:18.138677 139949368248064 backprop.py:818] The dtype of the watched tensor must be floating (e.g. tf.float32), got tf.int32\n",
            "W0403 08:51:18.140618 139949368248064 backprop.py:818] The dtype of the watched tensor must be floating (e.g. tf.float32), got tf.int64\n",
            "W0403 08:51:18.141865 139949368248064 backprop.py:818] The dtype of the watched tensor must be floating (e.g. tf.float32), got tf.int32\n",
            "W0403 08:51:18.154871 139950747289472 backprop.py:818] The dtype of the watched tensor must be floating (e.g. tf.float32), got tf.int64\n"
          ],
          "name": "stderr"
        },
        {
          "output_type": "execute_result",
          "data": {
            "text/plain": [
              "17.3"
            ]
          },
          "metadata": {
            "tags": []
          },
          "execution_count": 13
        }
      ]
    },
    {
      "metadata": {
        "id": "KG45cL7AVSys",
        "colab_type": "text"
      },
      "cell_type": "markdown",
      "source": [
        "#### Replay Buffer & Data Collection\n",
        "\n",
        "Environment から情報を収集。[TF Driver](https://github.com/tensorflow/agents/blob/master/tf_agents/colabs/4_drivers_tutorial.ipynb) で簡潔に記述できる。"
      ]
    },
    {
      "metadata": {
        "id": "sWLHRN98S67F",
        "colab_type": "code",
        "colab": {}
      },
      "cell_type": "code",
      "source": [
        "def create_replay_buffer(tf_agent, train_env):\n",
        "    replay_buffer = tf_uniform_replay_buffer.TFUniformReplayBuffer(\n",
        "        data_spec=tf_agent.collect_data_spec,\n",
        "        batch_size=train_env.batch_size,\n",
        "        max_length=replay_buffer_capacity\n",
        "    )\n",
        "    print(replay_buffer.capacity.numpy(), replay_buffer._batch_size)\n",
        "    print(replay_buffer.data_spec)\n",
        "    return replay_buffer\n",
        "\n",
        "def collect_data(replay_buffer, env, policy, n_steps):\n",
        "    dynamic_step_driver.DynamicStepDriver(\n",
        "        env, policy, [replay_buffer.add_batch], n_steps\n",
        "    ).run()    \n",
        "    return\n"
      ],
      "execution_count": 0,
      "outputs": []
    },
    {
      "metadata": {
        "id": "B7Qf_2_jXjwC",
        "colab_type": "text"
      },
      "cell_type": "markdown",
      "source": [
        "#### TF-Agentの訓練"
      ]
    },
    {
      "metadata": {
        "id": "9M1H8D_xXSAF",
        "colab_type": "code",
        "outputId": "c5df5bde-9431-47d0-8256-bcceb266e12d",
        "colab": {
          "base_uri": "https://localhost:8080/",
          "height": 2229
        }
      },
      "cell_type": "code",
      "source": [
        "%%time\n",
        "\n",
        "def train_agent():\n",
        "    tf_agent = create_agent(train_env)\n",
        "    \n",
        "    replay_buffer = create_replay_buffer(tf_agent, train_env)\n",
        "    collect_data(replay_buffer, train_env, random_policy, initial_collect_steps)\n",
        "    dataset = replay_buffer.as_dataset(\n",
        "        num_parallel_calls=3, sample_batch_size=batch_size, num_steps=2\n",
        "    ).prefetch(3)\n",
        "    iterator = iter(dataset)\n",
        "    \n",
        "    avg_return = evaluate(eval_env, tf_agent.policy, num_eval_episodes)\n",
        "    returns = [avg_return]\n",
        "    for step in range(1, 1+num_iterations):\n",
        "        collect_data(replay_buffer,train_env, tf_agent.collect_policy, \n",
        "                     collect_steps_per_iteration)\n",
        "        experience, _ = next(iterator)\n",
        "        train_loss = tf_agent.train(experience)\n",
        "        if step % log_interval == 0:\n",
        "            print('Step = {}, Loss= {}'.format(step, train_loss.loss))\n",
        "        if step % eval_interval == 0:\n",
        "            avg_return = evaluate(eval_env, tf_agent.policy, num_eval_episodes)\n",
        "            print('Step = {}, Average Return= {}'.format(step, avg_return))\n",
        "            returns.append(avg_return)\n",
        "    return returns\n",
        "returns = train_agent()"
      ],
      "execution_count": 0,
      "outputs": [
        {
          "output_type": "stream",
          "text": [
            "100000 1\n",
            "Trajectory(step_type=TensorSpec(shape=(), dtype=tf.int32, name='step_type'), observation=BoundedTensorSpec(shape=(4,), dtype=tf.float32, name=None, minimum=array([-4.8000002e+00, -3.4028235e+38, -4.1887903e-01, -3.4028235e+38],\n",
            "      dtype=float32), maximum=array([4.8000002e+00, 3.4028235e+38, 4.1887903e-01, 3.4028235e+38],\n",
            "      dtype=float32)), action=BoundedTensorSpec(shape=(), dtype=tf.int64, name=None, minimum=array(0), maximum=array(1)), policy_info=(), next_step_type=TensorSpec(shape=(), dtype=tf.int32, name='step_type'), reward=TensorSpec(shape=(), dtype=tf.float32, name='reward'), discount=BoundedTensorSpec(shape=(), dtype=tf.float32, name='discount', minimum=array(0., dtype=float32), maximum=array(1., dtype=float32)))\n",
            "Step = 200, Loss= 7.634439468383789\n",
            "Step = 400, Loss= 164.08152770996094\n",
            "Step = 600, Loss= 612.979248046875\n",
            "Step = 800, Loss= 453.0376281738281\n",
            "Step = 1000, Loss= 168.9308319091797\n",
            "Step = 1000, Average Return= 156.39999389648438\n",
            "Step = 1200, Loss= 56.59226989746094\n",
            "Step = 1400, Loss= 169.37347412109375\n",
            "Step = 1600, Loss= 81.28202056884766\n",
            "Step = 1800, Loss= 24.01748275756836\n",
            "Step = 2000, Loss= 52.55058288574219\n",
            "Step = 2000, Average Return= 183.3000030517578\n",
            "Step = 2200, Loss= 26.695646286010742\n",
            "Step = 2400, Loss= 38.818359375\n",
            "Step = 2600, Loss= 36.02195739746094\n",
            "Step = 2800, Loss= 135.97360229492188\n",
            "Step = 3000, Loss= 145.13931274414062\n",
            "Step = 3000, Average Return= 199.0\n",
            "Step = 3200, Loss= 40.5849723815918\n",
            "Step = 3400, Loss= 69.51548767089844\n",
            "Step = 3600, Loss= 8155.0849609375\n",
            "Step = 3800, Loss= 2470.92041015625\n",
            "Step = 4000, Loss= 67372.8125\n",
            "Step = 4000, Average Return= 200.0\n",
            "Step = 4200, Loss= 2382.625244140625\n",
            "Step = 4400, Loss= 1912.2418212890625\n",
            "Step = 4600, Loss= 2743.139892578125\n",
            "Step = 4800, Loss= 4681.935546875\n",
            "Step = 5000, Loss= 5214.43212890625\n",
            "Step = 5000, Average Return= 200.0\n",
            "Step = 5200, Loss= 4623.5869140625\n",
            "Step = 5400, Loss= 16214.017578125\n",
            "Step = 5600, Loss= 23334.41796875\n",
            "Step = 5800, Loss= 37481.04296875\n",
            "Step = 6000, Loss= 64138.11328125\n",
            "Step = 6000, Average Return= 200.0\n",
            "Step = 6200, Loss= 2566756.0\n",
            "Step = 6400, Loss= 102836.515625\n",
            "Step = 6600, Loss= 90639.3046875\n",
            "Step = 6800, Loss= 160354.265625\n",
            "Step = 7000, Loss= 145354.53125\n",
            "Step = 7000, Average Return= 200.0\n",
            "Step = 7200, Loss= 133344.625\n",
            "Step = 7400, Loss= 1125947.75\n",
            "Step = 7600, Loss= 703085.375\n",
            "Step = 7800, Loss= 229360.90625\n",
            "Step = 8000, Loss= 355058.5\n",
            "Step = 8000, Average Return= 200.0\n",
            "Step = 8200, Loss= 210612.53125\n",
            "Step = 8400, Loss= 406729.71875\n",
            "Step = 8600, Loss= 139097.734375\n",
            "Step = 8800, Loss= 423896.34375\n",
            "Step = 9000, Loss= 465189.5\n",
            "Step = 9000, Average Return= 200.0\n",
            "Step = 9200, Loss= 441572.46875\n",
            "Step = 9400, Loss= 818140.4375\n",
            "Step = 9600, Loss= 486777.6875\n",
            "Step = 9800, Loss= 964559.75\n",
            "Step = 10000, Loss= 945467.625\n",
            "Step = 10000, Average Return= 200.0\n",
            "Step = 10200, Loss= 1070544.5\n",
            "Step = 10400, Loss= 385490.9375\n",
            "Step = 10600, Loss= 340552.0\n",
            "Step = 10800, Loss= 288590.28125\n",
            "Step = 11000, Loss= 393264.625\n",
            "Step = 11000, Average Return= 200.0\n",
            "Step = 11200, Loss= 330722.5625\n",
            "Step = 11400, Loss= 476528.4375\n",
            "Step = 11600, Loss= 294242.6875\n",
            "Step = 11800, Loss= 403933.03125\n",
            "Step = 12000, Loss= 830136.875\n",
            "Step = 12000, Average Return= 200.0\n",
            "Step = 12200, Loss= 287347.34375\n",
            "Step = 12400, Loss= 495998.15625\n",
            "Step = 12600, Loss= 367407.1875\n",
            "Step = 12800, Loss= 542860.75\n",
            "Step = 13000, Loss= 561852.125\n",
            "Step = 13000, Average Return= 200.0\n",
            "Step = 13200, Loss= 388089.9375\n",
            "Step = 13400, Loss= 511543.5\n",
            "Step = 13600, Loss= 331356.1875\n",
            "Step = 13800, Loss= 796174.625\n",
            "Step = 14000, Loss= 1337136.5\n",
            "Step = 14000, Average Return= 200.0\n",
            "Step = 14200, Loss= 8652071.0\n",
            "Step = 14400, Loss= 40265960.0\n",
            "Step = 14600, Loss= 26959190.0\n",
            "Step = 14800, Loss= 58350640.0\n",
            "Step = 15000, Loss= 14213261312.0\n",
            "Step = 15000, Average Return= 11.100000381469727\n",
            "Step = 15200, Loss= 115878880.0\n",
            "Step = 15400, Loss= 153593024.0\n",
            "Step = 15600, Loss= 5981152768.0\n",
            "Step = 15800, Loss= 93904068608.0\n",
            "Step = 16000, Loss= 8931812352.0\n",
            "Step = 16000, Average Return= 19.200000762939453\n",
            "Step = 16200, Loss= 5852654080.0\n",
            "Step = 16400, Loss= 309225536.0\n",
            "Step = 16600, Loss= 5157793792.0\n",
            "Step = 16800, Loss= 2592290048.0\n",
            "Step = 17000, Loss= 1688714880.0\n",
            "Step = 17000, Average Return= 79.80000305175781\n",
            "Step = 17200, Loss= 323817504.0\n",
            "Step = 17400, Loss= 413939296.0\n",
            "Step = 17600, Loss= 269738688.0\n",
            "Step = 17800, Loss= 914003264.0\n",
            "Step = 18000, Loss= 579842112.0\n",
            "Step = 18000, Average Return= 74.4000015258789\n",
            "Step = 18200, Loss= 301553408.0\n",
            "Step = 18400, Loss= 359814944.0\n",
            "Step = 18600, Loss= 442730528.0\n",
            "Step = 18800, Loss= 291766848.0\n",
            "Step = 19000, Loss= 316360896.0\n",
            "Step = 19000, Average Return= 200.0\n",
            "Step = 19200, Loss= 303953120.0\n",
            "Step = 19400, Loss= 456434752.0\n",
            "Step = 19600, Loss= 193189216.0\n",
            "Step = 19800, Loss= 197591664.0\n",
            "Step = 20000, Loss= 137717840.0\n",
            "Step = 20000, Average Return= 178.5\n",
            "CPU times: user 27min 5s, sys: 35.7 s, total: 27min 41s\n",
            "Wall time: 26min 46s\n"
          ],
          "name": "stdout"
        }
      ]
    },
    {
      "metadata": {
        "id": "1mzRC0TXYDmp",
        "colab_type": "code",
        "outputId": "5b6b6af0-f3a9-46d7-df88-2deb06175081",
        "colab": {
          "base_uri": "https://localhost:8080/",
          "height": 379
        }
      },
      "cell_type": "code",
      "source": [
        "steps = range(0, num_iterations + 1, eval_interval)\n",
        "plt.ylabel('Average Return')\n",
        "plt.xlabel('Step')\n",
        "plt.plot(steps, returns)\n",
        "plt.ylim(top=210)"
      ],
      "execution_count": 0,
      "outputs": [
        {
          "output_type": "execute_result",
          "data": {
            "text/plain": [
              "(1.6550004005432122, 210)"
            ]
          },
          "metadata": {
            "tags": []
          },
          "execution_count": 16
        },
        {
          "output_type": "display_data",
          "data": {
            "image/png": "[encoded data removed]",
            "text/plain": [
              "<Figure size 576x396 with 1 Axes>"
            ]
          },
          "metadata": {
            "tags": []
          }
        }
      ]
    },
    {
      "metadata": {
        "id": "orgQAERng3Gm",
        "colab_type": "text"
      },
      "cell_type": "markdown",
      "source": [
        "最大の報酬 200 が得られている。"
      ]
    }
  ]
}