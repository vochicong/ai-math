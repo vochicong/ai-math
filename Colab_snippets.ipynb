{
  "nbformat": 4,
  "nbformat_minor": 0,
  "metadata": {
    "colab": {
      "name": "Colab snippets",
      "version": "0.3.2",
      "provenance": [],
      "collapsed_sections": [],
      "include_colab_link": true
    },
    "kernelspec": {
      "display_name": "Python 3",
      "name": "python3"
    }
  },
  "cells": [
    {
      "cell_type": "markdown",
      "metadata": {
        "id": "view-in-github",
        "colab_type": "text"
      },
      "source": [
        "<a href=\"https://colab.research.google.com/github/vochicong/ai-memo/blob/master/Colab_snippets.ipynb\" target=\"_parent\"><img src=\"https://colab.research.google.com/assets/colab-badge.svg\" alt=\"Open In Colab\"/></a>"
      ]
    },
    {
      "cell_type": "markdown",
      "metadata": {
        "id": "cYqdZ6A5im2k",
        "colab_type": "text"
      },
      "source": [
        "## Japanese fonts"
      ]
    },
    {
      "cell_type": "code",
      "metadata": {
        "id": "Oaxij48Cip5W",
        "colab_type": "code",
        "colab": {}
      },
      "source": [
        "# グラフに日本語が使えるようにする\n",
        "!apt-get -y install fonts-ipafont-gothic\n",
        "\n",
        "import matplotlib\n",
        "!rm -Rf {matplotlib.get_cachedir()}\n",
        "\n",
        "# 一回 Runtime をリスタート\n",
        "from matplotlib import rcParams\n",
        "import matplotlib.pyplot as plt\n",
        "rcParams['font.family'] = 'sans-serif'\n",
        "rcParams['font.sans-serif'] = ['IPAGothic']\n",
        "\n",
        "# テストグラフ\n",
        "plt.plot([0, 1], [0, 1])\n",
        "plt.xlabel('横軸')\n",
        "plt.ylabel('縦軸')\n",
        "plt.title('日本語テストタイトル')\n",
        "plt.show()"
      ],
      "execution_count": 0,
      "outputs": []
    }
  ]
}