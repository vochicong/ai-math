{
  "nbformat": 4,
  "nbformat_minor": 0,
  "metadata": {
    "colab": {
      "name": "datatime.ipynb",
      "version": "0.3.2",
      "provenance": [],
      "include_colab_link": true
    },
    "kernelspec": {
      "name": "python3",
      "display_name": "Python 3"
    }
  },
  "cells": [
    {
      "cell_type": "markdown",
      "metadata": {
        "id": "view-in-github",
        "colab_type": "text"
      },
      "source": [
        "<a href=\"https://colab.research.google.com/github/vochicong/ai-memo/blob/master/datatime.ipynb\" target=\"_parent\"><img src=\"https://colab.research.google.com/assets/colab-badge.svg\" alt=\"Open In Colab\"/></a>"
      ]
    },
    {
      "metadata": {
        "id": "Y_C6Dylb_nEU",
        "colab_type": "code",
        "colab": {}
      },
      "cell_type": "code",
      "source": [
        "import datetime"
      ],
      "execution_count": 0,
      "outputs": []
    },
    {
      "metadata": {
        "id": "y5UZ-RpL_9x6",
        "colab_type": "code",
        "outputId": "32272bfc-a2d6-46f7-b0cd-9f600403b43e",
        "colab": {
          "base_uri": "https://localhost:8080/",
          "height": 34
        }
      },
      "cell_type": "code",
      "source": [
        "# 現在時刻\n",
        "now = datetime.datetime.now()\n",
        "now"
      ],
      "execution_count": 0,
      "outputs": [
        {
          "output_type": "execute_result",
          "data": {
            "text/plain": [
              "datetime.datetime(2019, 1, 11, 8, 22, 28, 530120)"
            ]
          },
          "metadata": {
            "tags": []
          },
          "execution_count": 2
        }
      ]
    },
    {
      "metadata": {
        "id": "OEI87H_w_tGi",
        "colab_type": "code",
        "outputId": "30619c03-d9cc-45f0-8c58-187bddd3461c",
        "colab": {
          "base_uri": "https://localhost:8080/",
          "height": 1037
        }
      },
      "cell_type": "code",
      "source": [
        "# 時間の差分　0分、1分、２分、、、、59分\n",
        "deltas = map(lambda m: datetime.timedelta(minutes=m), range(60))\n",
        "\n",
        "# 現在時刻から１時間前までの１分毎の時刻のリストを生成\n",
        "list(map(lambda d: now -d, deltas))"
      ],
      "execution_count": 0,
      "outputs": [
        {
          "output_type": "execute_result",
          "data": {
            "text/plain": [
              "[datetime.datetime(2019, 1, 11, 8, 22, 28, 530120),\n",
              " datetime.datetime(2019, 1, 11, 8, 21, 28, 530120),\n",
              " datetime.datetime(2019, 1, 11, 8, 20, 28, 530120),\n",
              " datetime.datetime(2019, 1, 11, 8, 19, 28, 530120),\n",
              " datetime.datetime(2019, 1, 11, 8, 18, 28, 530120),\n",
              " datetime.datetime(2019, 1, 11, 8, 17, 28, 530120),\n",
              " datetime.datetime(2019, 1, 11, 8, 16, 28, 530120),\n",
              " datetime.datetime(2019, 1, 11, 8, 15, 28, 530120),\n",
              " datetime.datetime(2019, 1, 11, 8, 14, 28, 530120),\n",
              " datetime.datetime(2019, 1, 11, 8, 13, 28, 530120),\n",
              " datetime.datetime(2019, 1, 11, 8, 12, 28, 530120),\n",
              " datetime.datetime(2019, 1, 11, 8, 11, 28, 530120),\n",
              " datetime.datetime(2019, 1, 11, 8, 10, 28, 530120),\n",
              " datetime.datetime(2019, 1, 11, 8, 9, 28, 530120),\n",
              " datetime.datetime(2019, 1, 11, 8, 8, 28, 530120),\n",
              " datetime.datetime(2019, 1, 11, 8, 7, 28, 530120),\n",
              " datetime.datetime(2019, 1, 11, 8, 6, 28, 530120),\n",
              " datetime.datetime(2019, 1, 11, 8, 5, 28, 530120),\n",
              " datetime.datetime(2019, 1, 11, 8, 4, 28, 530120),\n",
              " datetime.datetime(2019, 1, 11, 8, 3, 28, 530120),\n",
              " datetime.datetime(2019, 1, 11, 8, 2, 28, 530120),\n",
              " datetime.datetime(2019, 1, 11, 8, 1, 28, 530120),\n",
              " datetime.datetime(2019, 1, 11, 8, 0, 28, 530120),\n",
              " datetime.datetime(2019, 1, 11, 7, 59, 28, 530120),\n",
              " datetime.datetime(2019, 1, 11, 7, 58, 28, 530120),\n",
              " datetime.datetime(2019, 1, 11, 7, 57, 28, 530120),\n",
              " datetime.datetime(2019, 1, 11, 7, 56, 28, 530120),\n",
              " datetime.datetime(2019, 1, 11, 7, 55, 28, 530120),\n",
              " datetime.datetime(2019, 1, 11, 7, 54, 28, 530120),\n",
              " datetime.datetime(2019, 1, 11, 7, 53, 28, 530120),\n",
              " datetime.datetime(2019, 1, 11, 7, 52, 28, 530120),\n",
              " datetime.datetime(2019, 1, 11, 7, 51, 28, 530120),\n",
              " datetime.datetime(2019, 1, 11, 7, 50, 28, 530120),\n",
              " datetime.datetime(2019, 1, 11, 7, 49, 28, 530120),\n",
              " datetime.datetime(2019, 1, 11, 7, 48, 28, 530120),\n",
              " datetime.datetime(2019, 1, 11, 7, 47, 28, 530120),\n",
              " datetime.datetime(2019, 1, 11, 7, 46, 28, 530120),\n",
              " datetime.datetime(2019, 1, 11, 7, 45, 28, 530120),\n",
              " datetime.datetime(2019, 1, 11, 7, 44, 28, 530120),\n",
              " datetime.datetime(2019, 1, 11, 7, 43, 28, 530120),\n",
              " datetime.datetime(2019, 1, 11, 7, 42, 28, 530120),\n",
              " datetime.datetime(2019, 1, 11, 7, 41, 28, 530120),\n",
              " datetime.datetime(2019, 1, 11, 7, 40, 28, 530120),\n",
              " datetime.datetime(2019, 1, 11, 7, 39, 28, 530120),\n",
              " datetime.datetime(2019, 1, 11, 7, 38, 28, 530120),\n",
              " datetime.datetime(2019, 1, 11, 7, 37, 28, 530120),\n",
              " datetime.datetime(2019, 1, 11, 7, 36, 28, 530120),\n",
              " datetime.datetime(2019, 1, 11, 7, 35, 28, 530120),\n",
              " datetime.datetime(2019, 1, 11, 7, 34, 28, 530120),\n",
              " datetime.datetime(2019, 1, 11, 7, 33, 28, 530120),\n",
              " datetime.datetime(2019, 1, 11, 7, 32, 28, 530120),\n",
              " datetime.datetime(2019, 1, 11, 7, 31, 28, 530120),\n",
              " datetime.datetime(2019, 1, 11, 7, 30, 28, 530120),\n",
              " datetime.datetime(2019, 1, 11, 7, 29, 28, 530120),\n",
              " datetime.datetime(2019, 1, 11, 7, 28, 28, 530120),\n",
              " datetime.datetime(2019, 1, 11, 7, 27, 28, 530120),\n",
              " datetime.datetime(2019, 1, 11, 7, 26, 28, 530120),\n",
              " datetime.datetime(2019, 1, 11, 7, 25, 28, 530120),\n",
              " datetime.datetime(2019, 1, 11, 7, 24, 28, 530120),\n",
              " datetime.datetime(2019, 1, 11, 7, 23, 28, 530120)]"
            ]
          },
          "metadata": {
            "tags": []
          },
          "execution_count": 3
        }
      ]
    }
  ]
}