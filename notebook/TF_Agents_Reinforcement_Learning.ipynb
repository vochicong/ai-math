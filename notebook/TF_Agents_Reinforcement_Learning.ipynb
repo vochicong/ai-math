{
  "nbformat": 4,
  "nbformat_minor": 0,
  "metadata": {
    "colab": {
      "name": "TF-Agents-Reinforcement-Learning",
      "version": "0.3.2",
      "provenance": [],
      "collapsed_sections": [],
      "include_colab_link": true
    },
    "kernelspec": {
      "name": "python3",
      "display_name": "Python 3"
    },
    "accelerator": "TPU"
  },
  "cells": [
    {
      "cell_type": "markdown",
      "metadata": {
        "id": "view-in-github",
        "colab_type": "text"
      },
      "source": [
        "<a href=\"https://colab.research.google.com/github/vochicong/ai-memo/blob/master/TF_Agents_Reinforcement_Learning.ipynb\" target=\"_parent\"><img src=\"https://colab.research.google.com/assets/colab-badge.svg\" alt=\"Open In Colab\"/></a>"
      ]
    },
    {
      "metadata": {
        "id": "o4cExve6i8if",
        "colab_type": "text"
      },
      "cell_type": "markdown",
      "source": [
        "# TensorFlow Agentsで強化学習してみよう"
      ]
    },
    {
      "metadata": {
        "id": "lo5meLn7K3HM",
        "colab_type": "text"
      },
      "cell_type": "markdown",
      "source": [
        "## 準備"
      ]
    },
    {
      "metadata": {
        "id": "jLC68G8eKwxN",
        "colab_type": "text"
      },
      "cell_type": "markdown",
      "source": [
        "### gym や TF Agentsなどのインストール"
      ]
    },
    {
      "metadata": {
        "id": "AGhtbs3Ni7wA",
        "colab_type": "code",
        "cellView": "both",
        "outputId": "5d3d2ada-d70f-4d94-f989-3d65e3ae8d39",
        "colab": {
          "base_uri": "https://localhost:8080/",
          "height": 1009
        }
      },
      "cell_type": "code",
      "source": [
        "!apt-get install xvfb\n",
        "!pip install 'gym==0.10.11'\n",
        "!pip install imageio\n",
        "!pip install PILLOW\n",
        "!pip install pyglet\n",
        "!pip install pyvirtualdisplay\n",
        "!pip install tf-agents-nightly\n",
        "!pip install tf-nightly"
      ],
      "execution_count": 17,
      "outputs": [
        {
          "output_type": "stream",
          "text": [
            "\rReading package lists... 0%\r\rReading package lists... 0%\r\rReading package lists... 0%\r\rReading package lists... 8%\r\rReading package lists... 8%\r\rReading package lists... 8%\r\rReading package lists... 8%\r\rReading package lists... 75%\r\rReading package lists... 75%\r\rReading package lists... 76%\r\rReading package lists... 76%\r\rReading package lists... 81%\r\rReading package lists... 81%\r\rReading package lists... 81%\r\rReading package lists... 81%\r\rReading package lists... 85%\r\rReading package lists... 89%\r\rReading package lists... 89%\r\rReading package lists... 89%\r\rReading package lists... 89%\r\rReading package lists... 89%\r\rReading package lists... 89%\r\rReading package lists... 89%\r\rReading package lists... 89%\r\rReading package lists... 92%\r\rReading package lists... 92%\r\rReading package lists... 92%\r\rReading package lists... 92%\r\rReading package lists... 93%\r\rReading package lists... 93%\r\rReading package lists... 93%\r\rReading package lists... 93%\r\rReading package lists... 94%\r\rReading package lists... 94%\r\rReading package lists... 94%\r\rReading package lists... 94%\r\rReading package lists... 94%\r\rReading package lists... 94%\r\rReading package lists... 98%\r\rReading package lists... 98%\r\rReading package lists... 98%\r\rReading package lists... 98%\r\rReading package lists... Done\r\n",
            "\rBuilding dependency tree... 0%\r\rBuilding dependency tree... 0%\r\rBuilding dependency tree... 50%\r\rBuilding dependency tree... 50%\r\rBuilding dependency tree       \r\n",
            "\rReading state information... 0%\r\rReading state information... 0%\r\rReading state information... Done\r\n",
            "xvfb is already the newest version (2:1.19.6-1ubuntu4.2).\n",
            "The following package was automatically installed and is no longer required:\n",
            "  libnvidia-common-410\n",
            "Use 'apt autoremove' to remove it.\n",
            "0 upgraded, 0 newly installed, 0 to remove and 6 not upgraded.\n",
            "Requirement already satisfied: gym==0.10.11 in /usr/local/lib/python3.6/dist-packages (0.10.11)\n",
            "Requirement already satisfied: scipy in /usr/local/lib/python3.6/dist-packages (from gym==0.10.11) (1.1.0)\n",
            "Requirement already satisfied: numpy>=1.10.4 in /usr/local/lib/python3.6/dist-packages (from gym==0.10.11) (1.14.6)\n",
            "Requirement already satisfied: requests>=2.0 in /usr/local/lib/python3.6/dist-packages (from gym==0.10.11) (2.18.4)\n",
            "Requirement already satisfied: six in /usr/local/lib/python3.6/dist-packages (from gym==0.10.11) (1.11.0)\n",
            "Requirement already satisfied: pyglet>=1.2.0 in /usr/local/lib/python3.6/dist-packages (from gym==0.10.11) (1.3.2)\n",
            "Requirement already satisfied: certifi>=2017.4.17 in /usr/local/lib/python3.6/dist-packages (from requests>=2.0->gym==0.10.11) (2019.3.9)\n",
            "Requirement already satisfied: chardet<3.1.0,>=3.0.2 in /usr/local/lib/python3.6/dist-packages (from requests>=2.0->gym==0.10.11) (3.0.4)\n",
            "Requirement already satisfied: urllib3<1.23,>=1.21.1 in /usr/local/lib/python3.6/dist-packages (from requests>=2.0->gym==0.10.11) (1.22)\n",
            "Requirement already satisfied: idna<2.7,>=2.5 in /usr/local/lib/python3.6/dist-packages (from requests>=2.0->gym==0.10.11) (2.6)\n",
            "Requirement already satisfied: future in /usr/local/lib/python3.6/dist-packages (from pyglet>=1.2.0->gym==0.10.11) (0.16.0)\n",
            "Requirement already satisfied: imageio in /usr/local/lib/python3.6/dist-packages (2.4.1)\n",
            "Requirement already satisfied: numpy in /usr/local/lib/python3.6/dist-packages (from imageio) (1.14.6)\n",
            "Requirement already satisfied: pillow in /usr/local/lib/python3.6/dist-packages (from imageio) (4.1.1)\n",
            "Requirement already satisfied: olefile in /usr/local/lib/python3.6/dist-packages (from pillow->imageio) (0.46)\n",
            "Requirement already satisfied: PILLOW in /usr/local/lib/python3.6/dist-packages (4.1.1)\n",
            "Requirement already satisfied: olefile in /usr/local/lib/python3.6/dist-packages (from PILLOW) (0.46)\n",
            "Requirement already satisfied: pyglet in /usr/local/lib/python3.6/dist-packages (1.3.2)\n",
            "Requirement already satisfied: future in /usr/local/lib/python3.6/dist-packages (from pyglet) (0.16.0)\n",
            "Requirement already satisfied: pyvirtualdisplay in /usr/local/lib/python3.6/dist-packages (0.2.1)\n",
            "Requirement already satisfied: EasyProcess in /usr/local/lib/python3.6/dist-packages (from pyvirtualdisplay) (0.2.5)\n",
            "Requirement already satisfied: tf-agents-nightly in /usr/local/lib/python3.6/dist-packages (0.2.0.dev20190321)\n",
            "Requirement already satisfied: absl-py>=0.6.1 in /usr/local/lib/python3.6/dist-packages (from tf-agents-nightly) (0.7.1)\n",
            "Requirement already satisfied: gin-config==0.1.3 in /usr/local/lib/python3.6/dist-packages (from tf-agents-nightly) (0.1.3)\n",
            "Requirement already satisfied: six>=1.10.0 in /usr/local/lib/python3.6/dist-packages (from tf-agents-nightly) (1.11.0)\n",
            "Requirement already satisfied: numpy>=1.13.3 in /usr/local/lib/python3.6/dist-packages (from tf-agents-nightly) (1.14.6)\n",
            "Requirement already satisfied: tfp-nightly==0.7.0.dev20190304 in /usr/local/lib/python3.6/dist-packages (from tf-agents-nightly) (0.7.0.dev20190304)\n",
            "Requirement already satisfied: tf-nightly in /usr/local/lib/python3.6/dist-packages (1.14.1.dev20190407)\n",
            "Requirement already satisfied: tf-estimator-nightly in /usr/local/lib/python3.6/dist-packages (from tf-nightly) (1.14.0.dev2019040501)\n",
            "Requirement already satisfied: keras-applications>=1.0.6 in /usr/local/lib/python3.6/dist-packages (from tf-nightly) (1.0.7)\n",
            "Requirement already satisfied: numpy<2.0,>=1.14.5 in /usr/local/lib/python3.6/dist-packages (from tf-nightly) (1.14.6)\n",
            "Requirement already satisfied: astor>=0.6.0 in /usr/local/lib/python3.6/dist-packages (from tf-nightly) (0.7.1)\n",
            "Requirement already satisfied: six>=1.10.0 in /usr/local/lib/python3.6/dist-packages (from tf-nightly) (1.11.0)\n",
            "Requirement already satisfied: google-pasta>=0.1.2 in /usr/local/lib/python3.6/dist-packages (from tf-nightly) (0.1.4)\n",
            "Requirement already satisfied: absl-py>=0.7.0 in /usr/local/lib/python3.6/dist-packages (from tf-nightly) (0.7.1)\n",
            "Requirement already satisfied: tb-nightly<1.15.0a0,>=1.14.0a0 in /usr/local/lib/python3.6/dist-packages (from tf-nightly) (1.14.0a20190319)\n",
            "Requirement already satisfied: grpcio>=1.8.6 in /usr/local/lib/python3.6/dist-packages (from tf-nightly) (1.15.0)\n",
            "Requirement already satisfied: keras-preprocessing>=1.0.5 in /usr/local/lib/python3.6/dist-packages (from tf-nightly) (1.0.9)\n",
            "Requirement already satisfied: termcolor>=1.1.0 in /usr/local/lib/python3.6/dist-packages (from tf-nightly) (1.1.0)\n",
            "Requirement already satisfied: wheel>=0.26 in /usr/local/lib/python3.6/dist-packages (from tf-nightly) (0.33.1)\n",
            "Requirement already satisfied: protobuf>=3.6.1 in /usr/local/lib/python3.6/dist-packages (from tf-nightly) (3.7.1)\n",
            "Requirement already satisfied: gast>=0.2.0 in /usr/local/lib/python3.6/dist-packages (from tf-nightly) (0.2.2)\n",
            "Requirement already satisfied: h5py in /usr/local/lib/python3.6/dist-packages (from keras-applications>=1.0.6->tf-nightly) (2.8.0)\n",
            "Requirement already satisfied: markdown>=2.6.8 in /usr/local/lib/python3.6/dist-packages (from tb-nightly<1.15.0a0,>=1.14.0a0->tf-nightly) (3.1)\n",
            "Requirement already satisfied: werkzeug>=0.11.15 in /usr/local/lib/python3.6/dist-packages (from tb-nightly<1.15.0a0,>=1.14.0a0->tf-nightly) (0.15.2)\n",
            "Requirement already satisfied: setuptools in /usr/local/lib/python3.6/dist-packages (from protobuf>=3.6.1->tf-nightly) (40.9.0)\n"
          ],
          "name": "stdout"
        }
      ]
    },
    {
      "metadata": {
        "id": "O66cHuFHK8G7",
        "colab_type": "text"
      },
      "cell_type": "markdown",
      "source": [
        "### import"
      ]
    },
    {
      "metadata": {
        "id": "5mkQVwuS7p92",
        "colab_type": "code",
        "colab": {}
      },
      "cell_type": "code",
      "source": [
        "from __future__ import absolute_import\n",
        "from __future__ import division\n",
        "from __future__ import print_function\n",
        "\n",
        "import base64\n",
        "import gym\n",
        "import imageio\n",
        "import IPython\n",
        "import matplotlib\n",
        "import matplotlib.pyplot as plt\n",
        "import numpy as np\n",
        "import PIL.Image\n",
        "import pyvirtualdisplay\n",
        "\n",
        "import tensorflow as tf\n",
        "\n",
        "from tf_agents.agents.dqn import dqn_agent\n",
        "from tf_agents.agents.dqn import q_network\n",
        "from tf_agents.drivers import dynamic_episode_driver\n",
        "from tf_agents.drivers import dynamic_step_driver\n",
        "from tf_agents.environments import suite_gym\n",
        "from tf_agents.environments import tf_py_environment\n",
        "from tf_agents.environments import trajectory\n",
        "from tf_agents.metrics import metric_utils\n",
        "from tf_agents.metrics import tf_metrics\n",
        "from tf_agents.policies import random_tf_policy\n",
        "from tf_agents.replay_buffers import tf_uniform_replay_buffer\n",
        "from tf_agents.utils import common\n",
        "\n",
        "tf.compat.v1.enable_v2_behavior()\n",
        "\n",
        "\n",
        "# Set up a virtual display for rendering OpenAI gym environments.\n",
        "display = pyvirtualdisplay.Display(visible=0, size=(1400, 900)).start()"
      ],
      "execution_count": 0,
      "outputs": []
    },
    {
      "metadata": {
        "id": "C8YuDSibLGY6",
        "colab_type": "text"
      },
      "cell_type": "markdown",
      "source": [
        "### 設定"
      ]
    },
    {
      "metadata": {
        "id": "FH72gnNK73aA",
        "colab_type": "code",
        "colab": {}
      },
      "cell_type": "code",
      "source": [
        "env_name = 'CartPole-v0'  # @param\n",
        "num_iterations = 5000  # @param\n",
        "\n",
        "initial_collect_steps = 1000  # @param\n",
        "collect_steps_per_iteration = 10  # @param\n",
        "replay_buffer_capacity = 100000  # @param\n",
        "\n",
        "fc_layer_params = (100, 100, 100,) # @param\n",
        "\n",
        "batch_size = 64  # @param\n",
        "learning_rate = 1e-3  # @param\n",
        "log_interval = 200  # @param\n",
        "\n",
        "num_eval_episodes = 10  # @param\n",
        "eval_interval = 1000  # @param"
      ],
      "execution_count": 0,
      "outputs": []
    },
    {
      "metadata": {
        "id": "Tz4IeS0uLQct",
        "colab_type": "text"
      },
      "cell_type": "markdown",
      "source": [
        "## Cartpole カートポール 倒立振子\n",
        "\n",
        "[Cartpole](https://gym.openai.com/docs/#environments) は強化学習の Hello world 的問題です。\n",
        "\n",
        "倒立振子が倒れないように、左か右へ移動(Action)できる。報酬の最大値は 200。"
      ]
    },
    {
      "metadata": {
        "id": "Isiyfjge77YP",
        "colab_type": "code",
        "outputId": "cf9d4119-6b39-4077-d094-3c4c8d44f4ae",
        "colab": {
          "base_uri": "https://localhost:8080/",
          "height": 417
        }
      },
      "cell_type": "code",
      "source": [
        "env = suite_gym.load(env_name)\n",
        "env.reset()\n",
        "PIL.Image.fromarray(env.render())"
      ],
      "execution_count": 20,
      "outputs": [
        {
          "output_type": "execute_result",
          "data": {
            "image/png": "[encoded data removed]",
            "text/plain": [
              "<PIL.Image.Image image mode=RGB size=600x400 at 0x7F7B6D1BCAC8>"
            ]
          },
          "metadata": {
            "tags": []
          },
          "execution_count": 20
        }
      ]
    },
    {
      "metadata": {
        "id": "pMBcen8_8ISM",
        "colab_type": "code",
        "outputId": "2a61806a-5044-41e1-ecb1-86829afb3a4b",
        "colab": {
          "base_uri": "https://localhost:8080/",
          "height": 109
        }
      },
      "cell_type": "code",
      "source": [
        "print('Observation Spec:')\n",
        "print(env.time_step_spec().observation)\n",
        "print('Action Spec:')\n",
        "print(env.action_spec())"
      ],
      "execution_count": 21,
      "outputs": [
        {
          "output_type": "stream",
          "text": [
            "Observation Spec:\n",
            "BoundedArraySpec(shape=(4,), dtype=dtype('float32'), name=None, minimum=[-4.8000002e+00 -3.4028235e+38 -4.1887903e-01 -3.4028235e+38], maximum=[4.8000002e+00 3.4028235e+38 4.1887903e-01 3.4028235e+38])\n",
            "Action Spec:\n",
            "BoundedArraySpec(shape=(), dtype=dtype('int64'), name=None, minimum=0, maximum=1)\n"
          ],
          "name": "stdout"
        }
      ]
    },
    {
      "metadata": {
        "id": "z1MCD1L4JIWX",
        "colab_type": "text"
      },
      "cell_type": "markdown",
      "source": [
        "### Random 行動\n",
        "\n",
        "大体 30 位の rewards （報酬）を得られる"
      ]
    },
    {
      "metadata": {
        "id": "3y9-0g-qJZCF",
        "colab_type": "text"
      },
      "cell_type": "markdown",
      "source": [
        "#### TF suite_gym利用"
      ]
    },
    {
      "metadata": {
        "id": "nqt0pDqi82Sb",
        "colab_type": "code",
        "colab": {}
      },
      "cell_type": "code",
      "source": [
        "env = suite_gym.load(env_name)\n",
        "rewards = []\n",
        "for i_episode in range(10):\n",
        "    env.reset()\n",
        "    for t in range(200):\n",
        "        action = env.action_space.sample()\n",
        "        next_step = env.step(action)\n",
        "        assert 1 == next_step.reward\n",
        "        if next_step.is_last():\n",
        "          rewards.append(t+1)\n",
        "          break"
      ],
      "execution_count": 0,
      "outputs": []
    },
    {
      "metadata": {
        "id": "xepwMiv_GBZ9",
        "colab_type": "code",
        "outputId": "708a76a7-51be-439b-ad00-af86230d0859",
        "colab": {
          "base_uri": "https://localhost:8080/",
          "height": 35
        }
      },
      "cell_type": "code",
      "source": [
        "np.mean(rewards), rewards"
      ],
      "execution_count": 23,
      "outputs": [
        {
          "output_type": "execute_result",
          "data": {
            "text/plain": [
              "(18.1, [11, 10, 26, 15, 11, 16, 40, 19, 20, 13])"
            ]
          },
          "metadata": {
            "tags": []
          },
          "execution_count": 23
        }
      ]
    },
    {
      "metadata": {
        "id": "jCwIrDgBJRN4",
        "colab_type": "text"
      },
      "cell_type": "markdown",
      "source": [
        "#### OpenAI gym利用"
      ]
    },
    {
      "metadata": {
        "id": "rSfjdMaQ9Ael",
        "colab_type": "code",
        "colab": {}
      },
      "cell_type": "code",
      "source": [
        "env = gym.make(env_name)\n",
        "rewards = []\n",
        "for i_episode in range(10):\n",
        "    env.reset()\n",
        "    for t in range(100):\n",
        "        action = env.action_space.sample()\n",
        "        observation, reward, done, info = env.step(action)\n",
        "        assert 1 == reward\n",
        "        if done:\n",
        "          rewards.append(t+1)\n",
        "          break"
      ],
      "execution_count": 0,
      "outputs": []
    },
    {
      "metadata": {
        "id": "2Di2L_tQHc8X",
        "colab_type": "code",
        "outputId": "fd07eebc-6610-40da-d745-bc53f123c861",
        "colab": {
          "base_uri": "https://localhost:8080/",
          "height": 35
        }
      },
      "cell_type": "code",
      "source": [
        "np.mean(rewards), rewards"
      ],
      "execution_count": 25,
      "outputs": [
        {
          "output_type": "execute_result",
          "data": {
            "text/plain": [
              "(21.9, [31, 33, 10, 12, 18, 17, 44, 12, 21, 21])"
            ]
          },
          "metadata": {
            "tags": []
          },
          "execution_count": 25
        }
      ]
    },
    {
      "metadata": {
        "id": "tPXbFcAiIVAq",
        "colab_type": "code",
        "outputId": "21050f32-c645-484a-e208-afe9e1537da4",
        "colab": {
          "base_uri": "https://localhost:8080/",
          "height": 35
        }
      },
      "cell_type": "code",
      "source": [
        "observation, reward, done, info"
      ],
      "execution_count": 26,
      "outputs": [
        {
          "output_type": "execute_result",
          "data": {
            "text/plain": [
              "(array([-0.17293828, -0.94194308,  0.23164879,  1.71741434]), 1.0, True, {})"
            ]
          },
          "metadata": {
            "tags": []
          },
          "execution_count": 26
        }
      ]
    },
    {
      "metadata": {
        "id": "FFW2A1uQMZEj",
        "colab_type": "text"
      },
      "cell_type": "markdown",
      "source": [
        "### TF-AgentsでDQN強化学習"
      ]
    },
    {
      "metadata": {
        "id": "vW3RpVhVNV33",
        "colab_type": "text"
      },
      "cell_type": "markdown",
      "source": [
        "#### 訓練と評価用の Environment を用意"
      ]
    },
    {
      "metadata": {
        "id": "8Gp5CjZKMcFU",
        "colab_type": "code",
        "colab": {}
      },
      "cell_type": "code",
      "source": [
        "train_py_env = suite_gym.load(env_name)\n",
        "eval_py_env = suite_gym.load(env_name)\n",
        "\n",
        "train_env = tf_py_environment.TFPyEnvironment(train_py_env)\n",
        "eval_env = tf_py_environment.TFPyEnvironment(eval_py_env)"
      ],
      "execution_count": 0,
      "outputs": []
    },
    {
      "metadata": {
        "id": "vWqGmZqQOTJB",
        "colab_type": "text"
      },
      "cell_type": "markdown",
      "source": [
        "#### Agent"
      ]
    },
    {
      "metadata": {
        "id": "MHILSH0zNayn",
        "colab_type": "code",
        "colab": {}
      },
      "cell_type": "code",
      "source": [
        "def create_agent(train_env):\n",
        "    q_net = q_network.QNetwork(\n",
        "      train_env.observation_spec(),\n",
        "      train_env.action_spec(),\n",
        "      fc_layer_params=fc_layer_params,\n",
        "    )\n",
        "\n",
        "    adam = tf.compat.v1.train.AdamOptimizer(learning_rate=learning_rate)\n",
        "\n",
        "    train_step_counter = tf.compat.v2.Variable(0)\n",
        "\n",
        "    tf_agent = dqn_agent.DqnAgent(\n",
        "        train_env.time_step_spec(),\n",
        "        train_env.action_spec(),\n",
        "        q_network=q_net,\n",
        "        optimizer=adam,\n",
        "        td_errors_loss_fn=dqn_agent.element_wise_squared_loss,\n",
        "        train_step_counter=train_step_counter,\n",
        "    )\n",
        "    tf_agent.initialize()\n",
        "    return tf_agent"
      ],
      "execution_count": 0,
      "outputs": []
    },
    {
      "metadata": {
        "id": "i3VkvNU5Poue",
        "colab_type": "text"
      },
      "cell_type": "markdown",
      "source": [
        "#### Policies & Metrics\n",
        "\n",
        "\n",
        "[tf_metrics.AverageReturnMetric](https://github.com/tensorflow/agents/blob/dba93a7b2ebdd1d64e7a46822804b57ad11878d0/tf_agents/metrics/py_metrics.py#L110) で評価し、[TF Driver](https://github.com/tensorflow/agents/blob/master/tf_agents/colabs/4_drivers_tutorial.ipynb) で for loop を使わずに簡潔に記述。"
      ]
    },
    {
      "metadata": {
        "id": "iAZzXhVmNTL7",
        "colab_type": "code",
        "outputId": "12aa9fc8-8da8-48ed-9efd-962bae63faa8",
        "colab": {
          "base_uri": "https://localhost:8080/",
          "height": 35
        }
      },
      "cell_type": "code",
      "source": [
        "random_policy = random_tf_policy.RandomTFPolicy(\n",
        "  train_env.time_step_spec(),\n",
        "  train_env.action_spec())\n",
        "\n",
        "# 評価メソッド\n",
        "def evaluate(env, policy, num_episodes=num_eval_episodes):\n",
        "    observers = [tf_metrics.AverageReturnMetric()]\n",
        "    dynamic_episode_driver.DynamicEpisodeDriver(\n",
        "        env, policy, observers, num_episodes).run()\n",
        "    return observers[0].result().numpy()\n",
        "\n",
        "# Random policy を評価してみる\n",
        "evaluate(eval_env, random_policy)"
      ],
      "execution_count": 29,
      "outputs": [
        {
          "output_type": "execute_result",
          "data": {
            "text/plain": [
              "20.1"
            ]
          },
          "metadata": {
            "tags": []
          },
          "execution_count": 29
        }
      ]
    },
    {
      "metadata": {
        "id": "KG45cL7AVSys",
        "colab_type": "text"
      },
      "cell_type": "markdown",
      "source": [
        "#### Replay Buffer & Data Collection\n",
        "\n",
        "Environment から情報を収集。[TF Driver](https://github.com/tensorflow/agents/blob/master/tf_agents/colabs/4_drivers_tutorial.ipynb) で簡潔に記述できる。"
      ]
    },
    {
      "metadata": {
        "id": "sWLHRN98S67F",
        "colab_type": "code",
        "colab": {}
      },
      "cell_type": "code",
      "source": [
        "def create_replay_buffer(tf_agent, train_env):\n",
        "    replay_buffer = tf_uniform_replay_buffer.TFUniformReplayBuffer(\n",
        "        data_spec=tf_agent.collect_data_spec,\n",
        "        batch_size=train_env.batch_size,\n",
        "        max_length=replay_buffer_capacity\n",
        "    )\n",
        "    print(replay_buffer.capacity.numpy(), replay_buffer._batch_size)\n",
        "    print(replay_buffer.data_spec)\n",
        "    return replay_buffer\n",
        "\n",
        "def collect_data(replay_buffer, env, policy, n_steps):\n",
        "    dynamic_step_driver.DynamicStepDriver(\n",
        "        env, policy, [replay_buffer.add_batch], n_steps\n",
        "    ).run()    \n",
        "    return\n"
      ],
      "execution_count": 0,
      "outputs": []
    },
    {
      "metadata": {
        "id": "B7Qf_2_jXjwC",
        "colab_type": "text"
      },
      "cell_type": "markdown",
      "source": [
        "#### TF-Agentの訓練"
      ]
    },
    {
      "metadata": {
        "id": "9M1H8D_xXSAF",
        "colab_type": "code",
        "outputId": "30403625-8f2e-4462-a806-76273c03b8b5",
        "colab": {
          "base_uri": "https://localhost:8080/",
          "height": 685
        }
      },
      "cell_type": "code",
      "source": [
        "%%time\n",
        "# for 1,000 iterations\n",
        "# - TPU: 1m37s \n",
        "# - GPU: 1m40s\n",
        "# - CPU: 1m43s\n",
        "\n",
        "num_iterations = 5000  # @param\n",
        "def train_agent(num_iterations=num_iterations):\n",
        "    tf_agent = create_agent(train_env)\n",
        "\n",
        "    replay_buffer = create_replay_buffer(tf_agent, train_env)\n",
        "    collect_data(replay_buffer, train_env, random_policy, initial_collect_steps)\n",
        "    dataset = replay_buffer.as_dataset(\n",
        "        num_parallel_calls=3, sample_batch_size=batch_size, num_steps=2\n",
        "    ).prefetch(3)\n",
        "    iterator = iter(dataset)\n",
        "\n",
        "    avg_return = evaluate(eval_env, tf_agent.policy, num_eval_episodes)\n",
        "    returns = [avg_return]\n",
        "    for step in range(1, 1+num_iterations):\n",
        "        collect_data(replay_buffer,train_env, tf_agent.collect_policy,\n",
        "                     collect_steps_per_iteration)\n",
        "        experience, _ = next(iterator)\n",
        "        train_loss = tf_agent.train(experience)\n",
        "        if step % log_interval == 0:\n",
        "            print('Step = {}, Loss= {}'.format(step, train_loss.loss))\n",
        "        if step % eval_interval == 0:\n",
        "            avg_return = evaluate(eval_env, tf_agent.policy, num_eval_episodes)\n",
        "            print('Step = {}, Average Return= {}'.format(step, avg_return))\n",
        "            returns.append(avg_return)\n",
        "    return returns\n",
        "returns = train_agent()\n",
        "returns"
      ],
      "execution_count": 18,
      "outputs": [
        {
          "output_type": "stream",
          "text": [
            "100000 1\n",
            "Trajectory(step_type=TensorSpec(shape=(), dtype=tf.int32, name='step_type'), observation=BoundedTensorSpec(shape=(4,), dtype=tf.float32, name=None, minimum=array([-4.8000002e+00, -3.4028235e+38, -4.1887903e-01, -3.4028235e+38],\n",
            "      dtype=float32), maximum=array([4.8000002e+00, 3.4028235e+38, 4.1887903e-01, 3.4028235e+38],\n",
            "      dtype=float32)), action=BoundedTensorSpec(shape=(), dtype=tf.int64, name=None, minimum=array(0), maximum=array(1)), policy_info=(), next_step_type=TensorSpec(shape=(), dtype=tf.int32, name='step_type'), reward=TensorSpec(shape=(), dtype=tf.float32, name='reward'), discount=BoundedTensorSpec(shape=(), dtype=tf.float32, name='discount', minimum=array(0., dtype=float32), maximum=array(1., dtype=float32)))\n",
            "Step = 200, Loss= 11.466930389404297\n",
            "Step = 400, Loss= 32.791664123535156\n",
            "Step = 600, Loss= 506.6145324707031\n",
            "Step = 800, Loss= 23115.6640625\n",
            "Step = 1000, Loss= 67530.578125\n",
            "Step = 1000, Average Return= 153.10000610351562\n",
            "Step = 1200, Loss= 95753.3984375\n",
            "Step = 1400, Loss= 1234952.5\n",
            "Step = 1600, Loss= 1278432.5\n",
            "Step = 1800, Loss= 35170848.0\n",
            "Step = 2000, Loss= 7630411.0\n",
            "Step = 2000, Average Return= 192.0\n",
            "Step = 2200, Loss= 12358276.0\n",
            "Step = 2400, Loss= 21927962.0\n",
            "Step = 2600, Loss= 53360256.0\n",
            "Step = 2800, Loss= 35562736.0\n",
            "Step = 3000, Loss= 22317100.0\n",
            "Step = 3000, Average Return= 188.1999969482422\n",
            "Step = 3200, Loss= 16359866.0\n",
            "Step = 3400, Loss= 22902540.0\n",
            "Step = 3600, Loss= 23507680.0\n",
            "Step = 3800, Loss= 16773251.0\n",
            "Step = 4000, Loss= 14360464.0\n",
            "Step = 4000, Average Return= 186.1999969482422\n",
            "Step = 4200, Loss= 19085908.0\n",
            "Step = 4400, Loss= 41592176.0\n",
            "Step = 4600, Loss= 50101496.0\n",
            "Step = 4800, Loss= 48879912.0\n",
            "Step = 5000, Loss= 64113804.0\n",
            "Step = 5000, Average Return= 198.8000030517578\n",
            "CPU times: user 7min 59s, sys: 12.2 s, total: 8min 12s\n",
            "Wall time: 7min 53s\n"
          ],
          "name": "stdout"
        }
      ]
    },
    {
      "metadata": {
        "id": "1mzRC0TXYDmp",
        "colab_type": "code",
        "outputId": "dbb6225a-24ef-4ddb-a510-3643903480b5",
        "colab": {
          "base_uri": "https://localhost:8080/",
          "height": 379
        }
      },
      "cell_type": "code",
      "source": [
        "steps = range(0, num_iterations + 1, eval_interval)\n",
        "plt.ylabel('Average Return')\n",
        "plt.xlabel('Step')\n",
        "plt.plot(steps, returns)\n",
        "plt.ylim(top=210)"
      ],
      "execution_count": 19,
      "outputs": [
        {
          "output_type": "execute_result",
          "data": {
            "text/plain": [
              "(0.14000024795532262, 210)"
            ]
          },
          "metadata": {
            "tags": []
          },
          "execution_count": 19
        },
        {
          "output_type": "display_data",
          "data": {
            "image/png": "[encoded data removed]",
            "text/plain": [
              "<Figure size 576x396 with 1 Axes>"
            ]
          },
          "metadata": {
            "tags": []
          }
        }
      ]
    },
    {
      "metadata": {
        "id": "orgQAERng3Gm",
        "colab_type": "text"
      },
      "cell_type": "markdown",
      "source": [
        "最大の報酬 200 が得られている。"
      ]
    }
  ]
}