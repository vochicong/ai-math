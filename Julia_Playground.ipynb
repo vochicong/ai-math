{
  "nbformat": 4,
  "nbformat_minor": 0,
  "metadata": {
    "colab": {
      "name": "Julia Playground.ipynb",
      "version": "0.3.2",
      "provenance": [],
      "include_colab_link": true
    },
    "kernelspec": {
      "display_name": "Julia 1.0.3 (4 threads)",
      "language": "julia",
      "name": "julia-1.0k"
    }
  },
  "cells": [
    {
      "cell_type": "markdown",
      "metadata": {
        "id": "view-in-github",
        "colab_type": "text"
      },
      "source": [
        "<a href=\"https://colab.research.google.com/github/vochicong/ai-memo/blob/master/Julia_Playground.ipynb\" target=\"_parent\"><img src=\"https://colab.research.google.com/assets/colab-badge.svg\" alt=\"Open In Colab\"/></a>"
      ]
    },
    {
      "metadata": {
        "id": "QC7vsyeZ2-FQ",
        "colab_type": "text"
      },
      "cell_type": "markdown",
      "source": [
        "# My Julia Playground\n",
        "\n",
        "In this notebook we will mostly compare Julia to Python.\n",
        "- Runtime: [JuliaBox](https://juliabox.com)\n",
        "- Learn more at [Julia Academy](https://academy.juliabox.com)\n",
        "- [Julia Doc](https://docs.julialang.org/en/v1/index.html)"
      ]
    },
    {
      "metadata": {
        "id": "tn4aLbI12-FS",
        "colab_type": "text"
      },
      "cell_type": "markdown",
      "source": [
        "### No need of multiplication sign"
      ]
    },
    {
      "metadata": {
        "id": "SncA1N002-FT",
        "colab_type": "code",
        "colab": {},
        "outputId": "3854710d-3bd8-471f-d38c-157dd732b175"
      },
      "cell_type": "code",
      "source": [
        "γ = .8\n",
        ".6γ + .1γ^3 + .3(γ - .2γ^4)"
      ],
      "execution_count": 0,
      "outputs": [
        {
          "output_type": "execute_result",
          "data": {
            "text/plain": [
              "0.746624"
            ]
          },
          "metadata": {
            "tags": []
          },
          "execution_count": 1
        }
      ]
    },
    {
      "metadata": {
        "id": "0ARxwFUY2-Fa",
        "colab_type": "text"
      },
      "cell_type": "markdown",
      "source": [
        "### String"
      ]
    },
    {
      "metadata": {
        "id": "nMIGotbi2-Fb",
        "colab_type": "code",
        "colab": {},
        "outputId": "2bc88d37-8736-4eab-be19-d58f70967220"
      },
      "cell_type": "code",
      "source": [
        "# \\:smi + <tab> --> select with down arrow + <enter> ---> <tab> + <enter> to complete\n",
        "😺 = \"Xin chào (Hi in Vietnamese)! \"\n",
        "😺^3"
      ],
      "execution_count": 0,
      "outputs": [
        {
          "output_type": "execute_result",
          "data": {
            "text/plain": [
              "\"Xin chào (Hi in Vietnamese)! Xin chào (Hi in Vietnamese)! Xin chào (Hi in Vietnamese)! \""
            ]
          },
          "metadata": {
            "tags": []
          },
          "execution_count": 2
        }
      ]
    },
    {
      "metadata": {
        "id": "ZRg7Sgn_2-Fe",
        "colab_type": "code",
        "colab": {},
        "outputId": "be82cb90-4c5a-46a7-8d89-06ac67fb19cf"
      },
      "cell_type": "code",
      "source": [
        "😺*😺"
      ],
      "execution_count": 0,
      "outputs": [
        {
          "output_type": "execute_result",
          "data": {
            "text/plain": [
              "\"Xin chào (Hi in Vietnamese)! Xin chào (Hi in Vietnamese)! \""
            ]
          },
          "metadata": {
            "tags": []
          },
          "execution_count": 3
        }
      ]
    },
    {
      "metadata": {
        "id": "cWDPWRyO2-Fh",
        "colab_type": "text"
      },
      "cell_type": "markdown",
      "source": [
        "### Julia is 1-based indexing"
      ]
    },
    {
      "metadata": {
        "id": "GddlyAKy2-Fi",
        "colab_type": "code",
        "colab": {}
      },
      "cell_type": "code",
      "source": [
        "@assert (1,2,3)[1] == 1 && [1,2,3][1] == 1"
      ],
      "execution_count": 0,
      "outputs": []
    },
    {
      "metadata": {
        "id": "U2oBriwk2-Fl",
        "colab_type": "text"
      },
      "cell_type": "markdown",
      "source": [
        "### NamedTuples"
      ]
    },
    {
      "metadata": {
        "id": "RBbX2Z_t2-Fm",
        "colab_type": "code",
        "colab": {}
      },
      "cell_type": "code",
      "source": [
        "mypets = (bird = \"penguins\", mammal = \"cats\", marsupial = \"sugargliders\")\n",
        "@assert mypets[1] == mypets.bird"
      ],
      "execution_count": 0,
      "outputs": []
    },
    {
      "metadata": {
        "id": "CPYXMBbC2-Fo",
        "colab_type": "text"
      },
      "cell_type": "markdown",
      "source": [
        "### Typed data"
      ]
    },
    {
      "metadata": {
        "id": "awmcK7iu2-Fp",
        "colab_type": "code",
        "colab": {},
        "outputId": "8f55be23-de56-4340-ac71-187ca0f17990"
      },
      "cell_type": "code",
      "source": [
        "# Dict{String,String}\n",
        "Dict(\"Jenny\" => \"867-5309\", \"Ghostbusters\" => \"555-2368\", )"
      ],
      "execution_count": 0,
      "outputs": [
        {
          "output_type": "execute_result",
          "data": {
            "text/plain": [
              "Dict{String,String} with 2 entries:\n",
              "  \"Jenny\"        => \"867-5309\"\n",
              "  \"Ghostbusters\" => \"555-2368\""
            ]
          },
          "metadata": {
            "tags": []
          },
          "execution_count": 6
        }
      ]
    },
    {
      "metadata": {
        "id": "66CjxKQ12-Fu",
        "colab_type": "code",
        "colab": {},
        "outputId": "3039cf0c-462e-40bd-cc90-88829e490917"
      },
      "cell_type": "code",
      "source": [
        "# Dict{String,Any}\n",
        "Dict{String, Any}(\"Jenny\" => \"867-5309\", \"Ghostbusters\" => \"555-2368\", )"
      ],
      "execution_count": 0,
      "outputs": [
        {
          "output_type": "execute_result",
          "data": {
            "text/plain": [
              "Dict{String,Any} with 2 entries:\n",
              "  \"Jenny\"        => \"867-5309\"\n",
              "  \"Ghostbusters\" => \"555-2368\""
            ]
          },
          "metadata": {
            "tags": []
          },
          "execution_count": 7
        }
      ]
    },
    {
      "metadata": {
        "id": "cCF5ibf_2-Fy",
        "colab_type": "code",
        "colab": {}
      },
      "cell_type": "code",
      "source": [
        ""
      ],
      "execution_count": 0,
      "outputs": []
    }
  ]
}